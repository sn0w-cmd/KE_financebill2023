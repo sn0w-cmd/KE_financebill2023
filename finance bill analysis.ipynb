{
 "cells": [
  {
   "cell_type": "code",
   "execution_count": 3,
   "metadata": {},
   "outputs": [
    {
     "ename": "ModuleNotFoundError",
     "evalue": "No module named 'streamlit_dynamic_filters'",
     "output_type": "error",
     "traceback": [
      "\u001b[1;31m---------------------------------------------------------------------------\u001b[0m",
      "\u001b[1;31mModuleNotFoundError\u001b[0m                       Traceback (most recent call last)",
      "Cell \u001b[1;32mIn[3], line 5\u001b[0m\n\u001b[0;32m      3\u001b[0m \u001b[38;5;28;01mimport\u001b[39;00m \u001b[38;5;21;01mseaborn\u001b[39;00m \u001b[38;5;28;01mas\u001b[39;00m \u001b[38;5;21;01msns\u001b[39;00m\n\u001b[0;32m      4\u001b[0m \u001b[38;5;66;03m# import streamlit as st\u001b[39;00m\n\u001b[1;32m----> 5\u001b[0m \u001b[38;5;28;01mfrom\u001b[39;00m \u001b[38;5;21;01mstreamlit_dynamic_filters\u001b[39;00m \u001b[38;5;28;01mimport\u001b[39;00m DynamicFilters\n",
      "\u001b[1;31mModuleNotFoundError\u001b[0m: No module named 'streamlit_dynamic_filters'"
     ]
    }
   ],
   "source": [
    "import pandas as pd\n",
    "import matplotlib.pyplot as plt\n",
    "import seaborn as sns\n",
    "# import streamlit as st\n",
    "from streamlit_dynamic_filters import DynamicFilters"
   ]
  },
  {
   "cell_type": "code",
   "execution_count": 106,
   "metadata": {},
   "outputs": [
    {
     "name": "stdout",
     "output_type": "stream",
     "text": [
      "Requirement already satisfied: streamlit in c:\\users\\libellule\\anaconda3\\envs\\learn-env\\lib\\site-packages (1.14.0)\n",
      "Requirement already satisfied: altair>=3.2.0 in c:\\users\\libellule\\anaconda3\\envs\\learn-env\\lib\\site-packages (from streamlit) (4.0.0)\n",
      "Requirement already satisfied: blinker>=1.0.0 in c:\\users\\libellule\\anaconda3\\envs\\learn-env\\lib\\site-packages (from streamlit) (1.8.2)\n",
      "Requirement already satisfied: cachetools>=4.0 in c:\\users\\libellule\\anaconda3\\envs\\learn-env\\lib\\site-packages (from streamlit) (4.1.1)\n",
      "Requirement already satisfied: click>=7.0 in c:\\users\\libellule\\anaconda3\\envs\\learn-env\\lib\\site-packages (from streamlit) (7.1.2)\n",
      "Requirement already satisfied: importlib-metadata>=1.4 in c:\\users\\libellule\\anaconda3\\envs\\learn-env\\lib\\site-packages (from streamlit) (2.0.0)\n",
      "Requirement already satisfied: numpy in c:\\users\\libellule\\anaconda3\\envs\\learn-env\\lib\\site-packages (from streamlit) (1.24.4)\n",
      "Requirement already satisfied: packaging>=14.1 in c:\\users\\libellule\\anaconda3\\envs\\learn-env\\lib\\site-packages (from streamlit) (23.2)\n",
      "Requirement already satisfied: pandas>=0.21.0 in c:\\users\\libellule\\anaconda3\\envs\\learn-env\\lib\\site-packages (from streamlit) (2.0.3)\n",
      "Requirement already satisfied: pillow>=6.2.0 in c:\\users\\libellule\\anaconda3\\envs\\learn-env\\lib\\site-packages (from streamlit) (10.2.0)\n",
      "Requirement already satisfied: protobuf<4,>=3.12 in c:\\users\\libellule\\anaconda3\\envs\\learn-env\\lib\\site-packages (from streamlit) (3.20.3)\n",
      "Requirement already satisfied: pyarrow>=4.0 in c:\\users\\libellule\\anaconda3\\envs\\learn-env\\lib\\site-packages (from streamlit) (16.1.0)\n",
      "Requirement already satisfied: pympler>=0.9 in c:\\users\\libellule\\anaconda3\\envs\\learn-env\\lib\\site-packages (from streamlit) (1.0.1)\n",
      "Requirement already satisfied: python-dateutil in c:\\users\\libellule\\anaconda3\\envs\\learn-env\\lib\\site-packages (from streamlit) (2.9.0.post0)\n",
      "Requirement already satisfied: requests>=2.4 in c:\\users\\libellule\\anaconda3\\envs\\learn-env\\lib\\site-packages (from streamlit) (2.31.0)\n",
      "Requirement already satisfied: rich>=10.11.0 in c:\\users\\libellule\\anaconda3\\envs\\learn-env\\lib\\site-packages (from streamlit) (13.7.1)\n",
      "Requirement already satisfied: semver in c:\\users\\libellule\\anaconda3\\envs\\learn-env\\lib\\site-packages (from streamlit) (3.0.2)\n",
      "Requirement already satisfied: toml in c:\\users\\libellule\\anaconda3\\envs\\learn-env\\lib\\site-packages (from streamlit) (0.10.2)\n",
      "Requirement already satisfied: typing-extensions>=3.10.0.0 in c:\\users\\libellule\\anaconda3\\envs\\learn-env\\lib\\site-packages (from streamlit) (4.9.0)\n",
      "Requirement already satisfied: tzlocal>=1.1 in c:\\users\\libellule\\anaconda3\\envs\\learn-env\\lib\\site-packages (from streamlit) (5.2)\n",
      "Requirement already satisfied: validators>=0.2 in c:\\users\\libellule\\anaconda3\\envs\\learn-env\\lib\\site-packages (from streamlit) (0.28.3)\n",
      "Requirement already satisfied: gitpython!=3.1.19 in c:\\users\\libellule\\anaconda3\\envs\\learn-env\\lib\\site-packages (from streamlit) (3.1.43)\n"
     ]
    },
    {
     "name": "stderr",
     "output_type": "stream",
     "text": [
      "\n",
      "[notice] A new release of pip is available: 23.3.2 -> 24.0\n",
      "[notice] To update, run: python.exe -m pip install --upgrade pip\n"
     ]
    },
    {
     "name": "stdout",
     "output_type": "stream",
     "text": [
      "Requirement already satisfied: pydeck>=0.1.dev5 in c:\\users\\libellule\\anaconda3\\envs\\learn-env\\lib\\site-packages (from streamlit) (0.9.1)\n",
      "Requirement already satisfied: tornado>=5.0 in c:\\users\\libellule\\anaconda3\\envs\\learn-env\\lib\\site-packages (from streamlit) (6.0.4)\n",
      "Requirement already satisfied: watchdog in c:\\users\\libellule\\anaconda3\\envs\\learn-env\\lib\\site-packages (from streamlit) (4.0.1)\n",
      "Requirement already satisfied: entrypoints in c:\\users\\libellule\\anaconda3\\envs\\learn-env\\lib\\site-packages (from altair>=3.2.0->streamlit) (0.3)\n",
      "Requirement already satisfied: jinja2 in c:\\users\\libellule\\anaconda3\\envs\\learn-env\\lib\\site-packages (from altair>=3.2.0->streamlit) (2.11.2)\n",
      "Requirement already satisfied: jsonschema in c:\\users\\libellule\\anaconda3\\envs\\learn-env\\lib\\site-packages (from altair>=3.2.0->streamlit) (3.2.0)\n",
      "Requirement already satisfied: toolz in c:\\users\\libellule\\anaconda3\\envs\\learn-env\\lib\\site-packages (from altair>=3.2.0->streamlit) (0.12.1)\n",
      "Requirement already satisfied: gitdb<5,>=4.0.1 in c:\\users\\libellule\\anaconda3\\envs\\learn-env\\lib\\site-packages (from gitpython!=3.1.19->streamlit) (4.0.11)\n",
      "Requirement already satisfied: zipp>=0.5 in c:\\users\\libellule\\anaconda3\\envs\\learn-env\\lib\\site-packages (from importlib-metadata>=1.4->streamlit) (3.3.0)\n",
      "Requirement already satisfied: pytz>=2020.1 in c:\\users\\libellule\\anaconda3\\envs\\learn-env\\lib\\site-packages (from pandas>=0.21.0->streamlit) (2020.1)\n",
      "Requirement already satisfied: tzdata>=2022.1 in c:\\users\\libellule\\anaconda3\\envs\\learn-env\\lib\\site-packages (from pandas>=0.21.0->streamlit) (2024.1)\n",
      "Requirement already satisfied: six>=1.5 in c:\\users\\libellule\\anaconda3\\envs\\learn-env\\lib\\site-packages (from python-dateutil->streamlit) (1.15.0)\n",
      "Requirement already satisfied: charset-normalizer<4,>=2 in c:\\users\\libellule\\anaconda3\\envs\\learn-env\\lib\\site-packages (from requests>=2.4->streamlit) (3.3.2)\n",
      "Requirement already satisfied: idna<4,>=2.5 in c:\\users\\libellule\\anaconda3\\envs\\learn-env\\lib\\site-packages (from requests>=2.4->streamlit) (2.10)\n",
      "Requirement already satisfied: urllib3<3,>=1.21.1 in c:\\users\\libellule\\anaconda3\\envs\\learn-env\\lib\\site-packages (from requests>=2.4->streamlit) (1.25.10)\n",
      "Requirement already satisfied: certifi>=2017.4.17 in c:\\users\\libellule\\anaconda3\\envs\\learn-env\\lib\\site-packages (from requests>=2.4->streamlit) (2023.5.7)\n",
      "Requirement already satisfied: markdown-it-py>=2.2.0 in c:\\users\\libellule\\anaconda3\\envs\\learn-env\\lib\\site-packages (from rich>=10.11.0->streamlit) (3.0.0)\n",
      "Requirement already satisfied: pygments<3.0.0,>=2.13.0 in c:\\users\\libellule\\anaconda3\\envs\\learn-env\\lib\\site-packages (from rich>=10.11.0->streamlit) (2.18.0)\n",
      "Requirement already satisfied: backports.zoneinfo in c:\\users\\libellule\\anaconda3\\envs\\learn-env\\lib\\site-packages (from tzlocal>=1.1->streamlit) (0.2.1)\n",
      "Requirement already satisfied: smmap<6,>=3.0.1 in c:\\users\\libellule\\anaconda3\\envs\\learn-env\\lib\\site-packages (from gitdb<5,>=4.0.1->gitpython!=3.1.19->streamlit) (5.0.1)\n",
      "Requirement already satisfied: MarkupSafe>=0.23 in c:\\users\\libellule\\anaconda3\\envs\\learn-env\\lib\\site-packages (from jinja2->altair>=3.2.0->streamlit) (1.1.1)\n",
      "Requirement already satisfied: mdurl~=0.1 in c:\\users\\libellule\\anaconda3\\envs\\learn-env\\lib\\site-packages (from markdown-it-py>=2.2.0->rich>=10.11.0->streamlit) (0.1.2)\n",
      "Requirement already satisfied: attrs>=17.4.0 in c:\\users\\libellule\\anaconda3\\envs\\learn-env\\lib\\site-packages (from jsonschema->altair>=3.2.0->streamlit) (20.2.0)\n",
      "Requirement already satisfied: pyrsistent>=0.14.0 in c:\\users\\libellule\\anaconda3\\envs\\learn-env\\lib\\site-packages (from jsonschema->altair>=3.2.0->streamlit) (0.17.3)\n",
      "Requirement already satisfied: setuptools in c:\\users\\libellule\\anaconda3\\envs\\learn-env\\lib\\site-packages (from jsonschema->altair>=3.2.0->streamlit) (50.3.0.post20201103)\n"
     ]
    }
   ],
   "source": [
    "! pip install streamlit\n"
   ]
  },
  {
   "cell_type": "code",
   "execution_count": 83,
   "metadata": {},
   "outputs": [],
   "source": [
    "with open('financebill_data.txt') as f:\n",
    "    lines = [line.rstrip('\\n') for line in f]"
   ]
  },
  {
   "cell_type": "code",
   "execution_count": 84,
   "metadata": {},
   "outputs": [],
   "source": [
    "test_votes = lines"
   ]
  },
  {
   "cell_type": "code",
   "execution_count": 85,
   "metadata": {},
   "outputs": [],
   "source": [
    "def create_dataframe():\n",
    "    all_votes = []\n",
    "    for i in test_votes:\n",
    "        split_names = (i.split(\",\"))\n",
    "        party_and_vote = split_names[-1].split(\"-\")\n",
    "        split_names.pop()\n",
    "        split_names.extend(party_and_vote)\n",
    "        all_votes.append(split_names)\n",
    "        all_votes = [[item.strip() for item in split_names] for split_names in all_votes]\n",
    "\n",
    "        \n",
    "    columns = ['Surname', 'Othernames', 'Constituency', 'Party', 'Vote']\n",
    "    df = pd.DataFrame(all_votes, columns=columns)\n",
    "    return df\n"
   ]
  },
  {
   "cell_type": "code",
   "execution_count": 86,
   "metadata": {},
   "outputs": [
    {
     "data": {
      "text/html": [
       "<div>\n",
       "<style scoped>\n",
       "    .dataframe tbody tr th:only-of-type {\n",
       "        vertical-align: middle;\n",
       "    }\n",
       "\n",
       "    .dataframe tbody tr th {\n",
       "        vertical-align: top;\n",
       "    }\n",
       "\n",
       "    .dataframe thead th {\n",
       "        text-align: right;\n",
       "    }\n",
       "</style>\n",
       "<table border=\"1\" class=\"dataframe\">\n",
       "  <thead>\n",
       "    <tr style=\"text-align: right;\">\n",
       "      <th></th>\n",
       "      <th>Surname</th>\n",
       "      <th>Othernames</th>\n",
       "      <th>Constituency</th>\n",
       "      <th>Party</th>\n",
       "      <th>Vote</th>\n",
       "    </tr>\n",
       "  </thead>\n",
       "  <tbody>\n",
       "    <tr>\n",
       "      <th>0</th>\n",
       "      <td>Adagala</td>\n",
       "      <td>Beatrice Kahai</td>\n",
       "      <td>VIHIGA COUNTY</td>\n",
       "      <td>ANC</td>\n",
       "      <td>YES</td>\n",
       "    </tr>\n",
       "    <tr>\n",
       "      <th>1</th>\n",
       "      <td>Denar</td>\n",
       "      <td>Joseph Hamisi</td>\n",
       "      <td>NOMINATED</td>\n",
       "      <td>ANC</td>\n",
       "      <td>YES</td>\n",
       "    </tr>\n",
       "    <tr>\n",
       "      <th>2</th>\n",
       "      <td>Gimose</td>\n",
       "      <td>Charles Gumini</td>\n",
       "      <td>HAMISI</td>\n",
       "      <td>ANC</td>\n",
       "      <td>ABSENT</td>\n",
       "    </tr>\n",
       "    <tr>\n",
       "      <th>3</th>\n",
       "      <td>Ikana</td>\n",
       "      <td>Fredrick Lusuli</td>\n",
       "      <td>SHINYALU</td>\n",
       "      <td>ANC</td>\n",
       "      <td>YES</td>\n",
       "    </tr>\n",
       "    <tr>\n",
       "      <th>4</th>\n",
       "      <td>Injendi</td>\n",
       "      <td>Moses Malulu</td>\n",
       "      <td>MALAVA</td>\n",
       "      <td>ANC</td>\n",
       "      <td>YES</td>\n",
       "    </tr>\n",
       "    <tr>\n",
       "      <th>...</th>\n",
       "      <td>...</td>\n",
       "      <td>...</td>\n",
       "      <td>...</td>\n",
       "      <td>...</td>\n",
       "      <td>...</td>\n",
       "    </tr>\n",
       "    <tr>\n",
       "      <th>344</th>\n",
       "      <td>Nyenze</td>\n",
       "      <td>Edith Vethi</td>\n",
       "      <td>KITUI WEST</td>\n",
       "      <td>WIPER</td>\n",
       "      <td>NO</td>\n",
       "    </tr>\n",
       "    <tr>\n",
       "      <th>345</th>\n",
       "      <td>Nzambia</td>\n",
       "      <td>Thudeeus Kithua</td>\n",
       "      <td>KILOME</td>\n",
       "      <td>WIPER</td>\n",
       "      <td>NO</td>\n",
       "    </tr>\n",
       "    <tr>\n",
       "      <th>346</th>\n",
       "      <td>Nzengu</td>\n",
       "      <td>Paul Musyimi</td>\n",
       "      <td>MWINGI NORTH</td>\n",
       "      <td>WIPER</td>\n",
       "      <td>ABSENT</td>\n",
       "    </tr>\n",
       "    <tr>\n",
       "      <th>347</th>\n",
       "      <td>Nzioka</td>\n",
       "      <td>Erastus Kivasu</td>\n",
       "      <td>MBOONI</td>\n",
       "      <td>WIPER</td>\n",
       "      <td>NO</td>\n",
       "    </tr>\n",
       "    <tr>\n",
       "      <th>348</th>\n",
       "      <td>Twalib</td>\n",
       "      <td>Abubakar Ahmed</td>\n",
       "      <td>NOMINATED</td>\n",
       "      <td>WIPER</td>\n",
       "      <td>YES</td>\n",
       "    </tr>\n",
       "  </tbody>\n",
       "</table>\n",
       "<p>349 rows × 5 columns</p>\n",
       "</div>"
      ],
      "text/plain": [
       "     Surname       Othernames   Constituency  Party    Vote\n",
       "0    Adagala   Beatrice Kahai  VIHIGA COUNTY    ANC     YES\n",
       "1      Denar    Joseph Hamisi      NOMINATED    ANC     YES\n",
       "2     Gimose   Charles Gumini         HAMISI    ANC  ABSENT\n",
       "3      Ikana  Fredrick Lusuli       SHINYALU    ANC     YES\n",
       "4    Injendi     Moses Malulu         MALAVA    ANC     YES\n",
       "..       ...              ...            ...    ...     ...\n",
       "344   Nyenze      Edith Vethi     KITUI WEST  WIPER      NO\n",
       "345  Nzambia  Thudeeus Kithua         KILOME  WIPER      NO\n",
       "346   Nzengu     Paul Musyimi   MWINGI NORTH  WIPER  ABSENT\n",
       "347   Nzioka   Erastus Kivasu         MBOONI  WIPER      NO\n",
       "348   Twalib   Abubakar Ahmed      NOMINATED  WIPER     YES\n",
       "\n",
       "[349 rows x 5 columns]"
      ]
     },
     "execution_count": 86,
     "metadata": {},
     "output_type": "execute_result"
    }
   ],
   "source": [
    "df = create_dataframe()\n",
    "df"
   ]
  },
  {
   "cell_type": "code",
   "execution_count": 87,
   "metadata": {},
   "outputs": [
    {
     "data": {
      "text/html": [
       "<div>\n",
       "<style scoped>\n",
       "    .dataframe tbody tr th:only-of-type {\n",
       "        vertical-align: middle;\n",
       "    }\n",
       "\n",
       "    .dataframe tbody tr th {\n",
       "        vertical-align: top;\n",
       "    }\n",
       "\n",
       "    .dataframe thead th {\n",
       "        text-align: right;\n",
       "    }\n",
       "</style>\n",
       "<table border=\"1\" class=\"dataframe\">\n",
       "  <thead>\n",
       "    <tr style=\"text-align: right;\">\n",
       "      <th></th>\n",
       "      <th>Surname</th>\n",
       "      <th>Othernames</th>\n",
       "      <th>Constituency</th>\n",
       "      <th>Party</th>\n",
       "      <th>Vote</th>\n",
       "    </tr>\n",
       "  </thead>\n",
       "  <tbody>\n",
       "  </tbody>\n",
       "</table>\n",
       "</div>"
      ],
      "text/plain": [
       "Empty DataFrame\n",
       "Columns: [Surname, Othernames, Constituency, Party, Vote]\n",
       "Index: []"
      ]
     },
     "execution_count": 87,
     "metadata": {},
     "output_type": "execute_result"
    }
   ],
   "source": [
    "df[df['Vote']=='UDA']"
   ]
  },
  {
   "cell_type": "code",
   "execution_count": 88,
   "metadata": {},
   "outputs": [
    {
     "data": {
      "text/plain": [
       "YES          173\n",
       "ABSENT        83\n",
       "NO            77\n",
       "SUSPENDED      6\n",
       "Name: Vote, dtype: int64"
      ]
     },
     "execution_count": 88,
     "metadata": {},
     "output_type": "execute_result"
    }
   ],
   "source": [
    "df['Vote'].value_counts()"
   ]
  },
  {
   "cell_type": "code",
   "execution_count": 117,
   "metadata": {},
   "outputs": [
    {
     "data": {
      "image/png": "[encoded data removed]",
      "text/plain": [
       "<Figure size 720x432 with 1 Axes>"
      ]
     },
     "metadata": {
      "needs_background": "light"
     },
     "output_type": "display_data"
    }
   ],
   "source": [
    "normalized_counts = df['Vote'].value_counts()\n",
    "\n",
    "# Plot bar chart\n",
    "plt.figure(figsize=(10, 6))\n",
    "sns.barplot(x=normalized_counts.index, y=normalized_counts.values, palette=\"viridis\")\n",
    "plt.title('Finance Bill 2024 votes by count')\n",
    "plt.xlabel('Vote Type')\n",
    "plt.ylabel('Count')\n",
    "plt.xticks(rotation=45)\n",
    "plt.show()\n",
    "\n",
    "# # Plot pie chart\n",
    "# plt.figure(figsize=(8, 8))\n",
    "# plt.pie(normalized_counts, labels=normalized_counts.index, autopct='%1.1f%%', startangle=140, colors=sns.color_palette(\"viridis\"))\n",
    "# plt.title('Normalized Vote Distribution')\n",
    "# plt.show()"
   ]
  },
  {
   "cell_type": "code",
   "execution_count": 115,
   "metadata": {},
   "outputs": [
    {
     "name": "stdout",
     "output_type": "stream",
     "text": [
      "^C\n",
      "Collecting pandas==1.1.5\n",
      "  Downloading pandas-1.1.5-cp38-cp38-win_amd64.whl.metadata (4.7 kB)\n",
      "Requirement already satisfied: python-dateutil>=2.7.3 in c:\\users\\libellule\\anaconda3\\envs\\learn-env\\lib\\site-packages (from pandas==1.1.5) (2.9.0.post0)\n",
      "Requirement already satisfied: pytz>=2017.2 in c:\\users\\libellule\\anaconda3\\envs\\learn-env\\lib\\site-packages (from pandas==1.1.5) (2020.1)\n",
      "Requirement already satisfied: numpy>=1.15.4 in c:\\users\\libellule\\anaconda3\\envs\\learn-env\\lib\\site-packages (from pandas==1.1.5) (1.24.4)\n",
      "Requirement already satisfied: six>=1.5 in c:\\users\\libellule\\anaconda3\\envs\\learn-env\\lib\\site-packages (from python-dateutil>=2.7.3->pandas==1.1.5) (1.15.0)\n",
      "Downloading pandas-1.1.5-cp38-cp38-win_amd64.whl (9.0 MB)\n",
      "   ---------------------------------------- 9.0/9.0 MB 1.6 MB/s eta 0:00:00\n",
      "Installing collected packages: pandas\n",
      "  Attempting uninstall: pandas\n",
      "    Found existing installation: pandas 2.0.3\n",
      "    Uninstalling pandas-2.0.3:\n",
      "      Successfully uninstalled pandas-2.0.3\n",
      "Successfully installed pandas-1.1.5\n"
     ]
    },
    {
     "name": "stderr",
     "output_type": "stream",
     "text": [
      "ERROR: pip's dependency resolver does not currently take into account all the packages that are installed. This behaviour is the source of the following dependency conflicts.\n",
      "fbprophet 0.7.1 requires cmdstanpy==0.9.5, which is not installed.\n",
      "\n",
      "[notice] A new release of pip is available: 23.3.2 -> 24.0\n",
      "[notice] To update, run: python.exe -m pip install --upgrade pip\n"
     ]
    }
   ],
   "source": [
    "!pip uninstall pandas\n",
    "!pip install pandas==1.1.5"
   ]
  },
  {
   "cell_type": "code",
   "execution_count": 116,
   "metadata": {},
   "outputs": [],
   "source": [
    "df.to_csv('financebillvotes.csv', index=False)\n"
   ]
  },
  {
   "cell_type": "code",
   "execution_count": 4,
   "metadata": {},
   "outputs": [
    {
     "name": "stderr",
     "output_type": "stream",
     "text": [
      "ERROR: To modify pip, please run the following command:\n",
      "c:\\users\\libellule\\anaconda3\\envs\\learn-env\\python.exe -m pip install --upgrade pip\n",
      "\n",
      "[notice] A new release of pip is available: 23.3.2 -> 24.0\n",
      "[notice] To update, run: python.exe -m pip install --upgrade pip\n"
     ]
    },
    {
     "name": "stdout",
     "output_type": "stream",
     "text": [
      "Requirement already satisfied: pip in c:\\users\\libellule\\anaconda3\\envs\\learn-env\\lib\\site-packages (23.3.2)\n",
      "Collecting pip\n",
      "  Downloading pip-24.0-py3-none-any.whl.metadata (3.6 kB)\n",
      "Downloading pip-24.0-py3-none-any.whl (2.1 MB)\n",
      "   ---------------------------------------- 2.1/2.1 MB 1.3 MB/s eta 0:00:00\n"
     ]
    }
   ],
   "source": [
    "!pip install --upgrade pip\n",
    "\n"
   ]
  },
  {
   "cell_type": "code",
   "execution_count": 2,
   "metadata": {},
   "outputs": [
    {
     "name": "stderr",
     "output_type": "stream",
     "text": [
      "2024-06-13 17:54:21.385 \n",
      "  \u001b[33m\u001b[1mWarning:\u001b[0m to view this Streamlit app on a browser, run it with the following\n",
      "  command:\n",
      "\n",
      "    streamlit run c:\\Users\\Libellule\\anaconda3\\lib\\site-packages\\ipykernel_launcher.py [ARGUMENTS]\n"
     ]
    },
    {
     "data": {
      "text/plain": [
       "DeltaGenerator()"
      ]
     },
     "execution_count": 2,
     "metadata": {},
     "output_type": "execute_result"
    }
   ],
   "source": [
    "import streamlit as st\n",
    "import pandas as pd\n",
    "\n",
    "# Load your DataFrame\n",
    "df = pd.read_csv('financebillvotes.csv')\n",
    "\n",
    "# Sidebar for user input\n",
    "column = st.sidebar.selectbox('Select column', df.columns)\n",
    "value = st.sidebar.text_input('Enter value')\n",
    "\n",
    "# Filter DataFrame based on input\n",
    "filtered_df = df[df[column].astype(str).str.contains(value, na=False)]\n",
    "\n",
    "# Display the filtered DataFrame\n",
    "st.dataframe(filtered_df)\n",
    "\n"
   ]
  },
  {
   "cell_type": "code",
   "execution_count": null,
   "metadata": {},
   "outputs": [],
   "source": []
  }
 ],
 "metadata": {
  "kernelspec": {
   "display_name": "learn-env",
   "language": "python",
   "name": "python3"
  },
  "language_info": {
   "codemirror_mode": {
    "name": "ipython",
    "version": 3
   },
   "file_extension": ".py",
   "mimetype": "text/x-python",
   "name": "python",
   "nbconvert_exporter": "python",
   "pygments_lexer": "ipython3",
   "version": "3.10.9"
  }
 },
 "nbformat": 4,
 "nbformat_minor": 2
}
